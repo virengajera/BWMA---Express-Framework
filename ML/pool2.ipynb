{
 "cells": [
  {
   "cell_type": "code",
   "execution_count": 1,
   "metadata": {},
   "outputs": [],
   "source": [
    "import numpy as np \n",
    "import matplotlib.pyplot as plt \n",
    "import requests \n",
    "import os\n",
    "import tensorflow as tf"
   ]
  },
  {
   "cell_type": "code",
   "execution_count": 7,
   "metadata": {},
   "outputs": [
    {
     "name": "stdout",
     "output_type": "stream",
     "text": [
      "[1 3 1 0 1 0 0 1 2 3 2 1 1 3 1 2 0 0 3 1] [2 0 3 1 2 1 1 1 3 0 0 2 1 1 0 2 0 1 3 2]\n",
      "[10 30 10  0 10  0  0 10 20 30 20 10 10 30 10 20  0  0 30 10]\n"
     ]
    }
   ],
   "source": [
    "\"\"\" Advanced numpy \"\"\"\n",
    "\n",
    "# Give a code snippet that create two random 1D arrays of length 20, with integer entries between 0 and 3 (included). \n",
    "# Then, the code should compute the confusion matrix from these two vectors.\n",
    "a = np.random.randint(4,size=(20))\n",
    "b = np.random.randint(4,size=(20))\n",
    "print(a,b)\n",
    "a = a * 10\n",
    "print(a)"
   ]
  }
 ],
 "metadata": {
  "kernelspec": {
   "display_name": "Python 3",
   "language": "python",
   "name": "python3"
  },
  "language_info": {
   "codemirror_mode": {
    "name": "ipython",
    "version": 3
   },
   "file_extension": ".py",
   "mimetype": "text/x-python",
   "name": "python",
   "nbconvert_exporter": "python",
   "pygments_lexer": "ipython3",
   "version": "3.10.8"
  },
  "orig_nbformat": 4,
  "vscode": {
   "interpreter": {
    "hash": "369f2c481f4da34e4445cda3fffd2e751bd1c4d706f27375911949ba6bb62e1c"
   }
  }
 },
 "nbformat": 4,
 "nbformat_minor": 2
}
